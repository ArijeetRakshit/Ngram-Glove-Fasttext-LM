{
 "cells": [
  {
   "cell_type": "code",
   "execution_count": 41,
   "id": "1d737492",
   "metadata": {},
   "outputs": [],
   "source": [
    "import pandas as pd\n",
    "import os\n",
    "import re"
   ]
  },
  {
   "cell_type": "code",
   "execution_count": null,
   "id": "d19e802c",
   "metadata": {},
   "outputs": [],
   "source": [
    "# converting english, hindi text dataset into csv having column names as Categories and Text\n",
    "os.makedirs(\"csv-datasets\", exist_ok=True)\n",
    "os.makedirs(os.path.join(\"csv-datasets\", \"english\"), exist_ok=True)\n",
    "os.makedirs(os.path.join(\"csv-datasets\", \"hindi\"), exist_ok=True)\n",
    "\n",
    "def text_to_csv(file_name: str, lan: str = \"english\"):\n",
    "    curr_directory = os.getcwd()\n",
    "    input_file_path = os.path.join(curr_directory, \"datasets\", \"english\", f\"{file_name}.txt\")\n",
    "    output_file_path = os.path.join(curr_directory, \"csv-datasets\", \"english\", f\"{file_name}.csv\")\n",
    "\n",
    "    if lan == \"hindi\":\n",
    "        input_file_path = os.path.join(curr_directory, \"datasets\", \"hindi\", f\"{file_name}.txt\")\n",
    "        output_file_path = os.path.join(curr_directory, \"csv-datasets\", \"hindi\", f\"{file_name}.csv\")\n",
    "\n",
    "    try:\n",
    "        with open(input_file_path, \"r\", encoding=\"utf-8\") as file:\n",
    "            content = file.read()\n",
    "\n",
    "        lst = re.split(r\"'([^']*)',\", content)\n",
    "        data = []\n",
    "        for i in range(1, len(lst), 2):\n",
    "            category = lst[i].strip(\" [] \")\n",
    "            text = lst[i + 1].strip() \n",
    "            data.append({\"Categories\": category, \"Text\": text})\n",
    "            \n",
    "        df = pd.DataFrame(data)\n",
    "        df.to_csv(output_file_path, index=False)\n",
    "        print(f\"File converted and saved successfully to '{output_file_path}'\")\n",
    "\n",
    "    except FileNotFoundError as e:\n",
    "        print(f\"Error: The file at '{e.filename}' was not found. Please ensure the path is correct.\")\n",
    "    except Exception as e:\n",
    "        print(f\"An unexpected error occurred: {e}\")"
   ]
  },
  {
   "cell_type": "code",
   "execution_count": 43,
   "id": "a278a9a5",
   "metadata": {},
   "outputs": [
    {
     "name": "stdout",
     "output_type": "stream",
     "text": [
      "File converted and saved successfully to 'd:\\Bits\\NLP\\Assignment1\\code\\csv-datasets\\english\\english_2500.csv'\n",
      "File converted and saved successfully to 'd:\\Bits\\NLP\\Assignment1\\code\\csv-datasets\\english\\english_15000.csv'\n",
      "File converted and saved successfully to 'd:\\Bits\\NLP\\Assignment1\\code\\csv-datasets\\english\\english_30000.csv'\n",
      "File converted and saved successfully to 'd:\\Bits\\NLP\\Assignment1\\code\\csv-datasets\\english\\english_test.csv'\n",
      "File converted and saved successfully to 'd:\\Bits\\NLP\\Assignment1\\code\\csv-datasets\\hindi\\hindi_2500.csv'\n",
      "File converted and saved successfully to 'd:\\Bits\\NLP\\Assignment1\\code\\csv-datasets\\hindi\\hindi_15000.csv'\n",
      "File converted and saved successfully to 'd:\\Bits\\NLP\\Assignment1\\code\\csv-datasets\\hindi\\hindi_30000.csv'\n",
      "File converted and saved successfully to 'd:\\Bits\\NLP\\Assignment1\\code\\csv-datasets\\hindi\\hindi_test.csv'\n"
     ]
    }
   ],
   "source": [
    "text_to_csv(\"english_2500\")\n",
    "text_to_csv(\"english_15000\")\n",
    "text_to_csv(\"english_30000\")\n",
    "text_to_csv(\"english_test\")\n",
    "\n",
    "text_to_csv(\"hindi_2500\", \"hindi\")\n",
    "text_to_csv(\"hindi_15000\", \"hindi\")\n",
    "text_to_csv(\"hindi_30000\", \"hindi\")\n",
    "text_to_csv(\"hindi_test\", \"hindi\")"
   ]
  }
 ],
 "metadata": {
  "kernelspec": {
   "display_name": ".venv",
   "language": "python",
   "name": "python3"
  },
  "language_info": {
   "codemirror_mode": {
    "name": "ipython",
    "version": 3
   },
   "file_extension": ".py",
   "mimetype": "text/x-python",
   "name": "python",
   "nbconvert_exporter": "python",
   "pygments_lexer": "ipython3",
   "version": "3.13.7"
  }
 },
 "nbformat": 4,
 "nbformat_minor": 5
}
